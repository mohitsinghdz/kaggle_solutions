{
  "nbformat": 4,
  "nbformat_minor": 0,
  "metadata": {
    "colab": {
      "name": "LANL-Earthquake-Prediction.ipynb",
      "version": "0.3.2",
      "provenance": [],
      "collapsed_sections": [],
      "include_colab_link": true
    },
    "kernelspec": {
      "name": "python3",
      "display_name": "Python 3"
    },
    "accelerator": "GPU"
  },
  "cells": [
    {
      "cell_type": "markdown",
      "metadata": {
        "id": "view-in-github",
        "colab_type": "text"
      },
      "source": [
        "<a href=\"https://colab.research.google.com/github/mohitsinghdz/kaggle_solutions/blob/master/LANL_Earthquake_Prediction.ipynb\" target=\"_parent\"><img src=\"https://colab.research.google.com/assets/colab-badge.svg\" alt=\"Open In Colab\"/></a>"
      ]
    },
    {
      "metadata": {
        "id": "7ecPe5bNp3Nb",
        "colab_type": "code",
        "colab": {
          "base_uri": "https://localhost:8080/",
          "height": 224
        },
        "outputId": "3d689e1d-a329-45f6-fd4f-3f53c80d807b"
      },
      "cell_type": "code",
      "source": [
        "!pip install kaggle"
      ],
      "execution_count": 3,
      "outputs": [
        {
          "output_type": "stream",
          "text": [
            "Requirement already satisfied: kaggle in /usr/local/lib/python3.6/dist-packages (1.5.3)\n",
            "Requirement already satisfied: urllib3<1.25,>=1.21.1 in /usr/local/lib/python3.6/dist-packages (from kaggle) (1.22)\n",
            "Requirement already satisfied: six>=1.10 in /usr/local/lib/python3.6/dist-packages (from kaggle) (1.11.0)\n",
            "Requirement already satisfied: certifi in /usr/local/lib/python3.6/dist-packages (from kaggle) (2018.11.29)\n",
            "Requirement already satisfied: python-dateutil in /usr/local/lib/python3.6/dist-packages (from kaggle) (2.5.3)\n",
            "Requirement already satisfied: requests in /usr/local/lib/python3.6/dist-packages (from kaggle) (2.18.4)\n",
            "Requirement already satisfied: tqdm in /usr/local/lib/python3.6/dist-packages (from kaggle) (4.28.1)\n",
            "Requirement already satisfied: python-slugify in /usr/local/lib/python3.6/dist-packages (from kaggle) (2.0.1)\n",
            "Requirement already satisfied: chardet<3.1.0,>=3.0.2 in /usr/local/lib/python3.6/dist-packages (from requests->kaggle) (3.0.4)\n",
            "Requirement already satisfied: idna<2.7,>=2.5 in /usr/local/lib/python3.6/dist-packages (from requests->kaggle) (2.6)\n",
            "Requirement already satisfied: Unidecode>=0.04.16 in /usr/local/lib/python3.6/dist-packages (from python-slugify->kaggle) (1.0.23)\n"
          ],
          "name": "stdout"
        }
      ]
    },
    {
      "metadata": {
        "id": "xLSu4l5Hp8Vz",
        "colab_type": "code",
        "colab": {
          "base_uri": "https://localhost:8080/",
          "height": 343
        },
        "outputId": "4a5ac913-5ea3-444a-c5ff-0ec177a060cc"
      },
      "cell_type": "code",
      "source": [
        "!pip install numpy==1.15.0\n"
      ],
      "execution_count": 4,
      "outputs": [
        {
          "output_type": "stream",
          "text": [
            "Collecting numpy==1.15.0\n",
            "\u001b[?25l  Downloading https://files.pythonhosted.org/packages/88/29/f4c845648ed23264e986cdc5fbab5f8eace1be5e62144ef69ccc7189461d/numpy-1.15.0-cp36-cp36m-manylinux1_x86_64.whl (13.9MB)\n",
            "\u001b[K    100% |████████████████████████████████| 13.9MB 3.0MB/s \n",
            "\u001b[31mtorchvision 0.2.2.post2 has requirement pillow>=4.1.1, but you'll have pillow 4.0.0 which is incompatible.\u001b[0m\n",
            "\u001b[31mthinc 6.12.1 has requirement wrapt<1.11.0,>=1.10.0, but you'll have wrapt 1.11.1 which is incompatible.\u001b[0m\n",
            "\u001b[31mpymc3 3.6 has requirement joblib<0.13.0, but you'll have joblib 0.13.2 which is incompatible.\u001b[0m\n",
            "\u001b[31mfeaturetools 0.4.1 has requirement pandas>=0.23.0, but you'll have pandas 0.22.0 which is incompatible.\u001b[0m\n",
            "\u001b[31malbumentations 0.1.12 has requirement imgaug<0.2.7,>=0.2.5, but you'll have imgaug 0.2.8 which is incompatible.\u001b[0m\n",
            "\u001b[?25hInstalling collected packages: numpy\n",
            "  Found existing installation: numpy 1.14.6\n",
            "    Uninstalling numpy-1.14.6:\n",
            "      Successfully uninstalled numpy-1.14.6\n",
            "Successfully installed numpy-1.15.0\n"
          ],
          "name": "stdout"
        },
        {
          "output_type": "display_data",
          "data": {
            "application/vnd.colab-display-data+json": {
              "pip_warning": {
                "packages": [
                  "numpy"
                ]
              }
            }
          },
          "metadata": {
            "tags": []
          }
        }
      ]
    },
    {
      "metadata": {
        "id": "O7WVoA6PqZIi",
        "colab_type": "code",
        "colab": {
          "base_uri": "https://localhost:8080/",
          "height": 224
        },
        "outputId": "fd88d09f-39d4-4e87-b20f-475796084754"
      },
      "cell_type": "code",
      "source": [
        "!pip install catboost"
      ],
      "execution_count": 5,
      "outputs": [
        {
          "output_type": "stream",
          "text": [
            "Collecting catboost\n",
            "\u001b[?25l  Downloading https://files.pythonhosted.org/packages/98/03/777a0e1c12571a7f3320a4fa6d5f123dba2dd7c0bca34f4f698a6396eb48/catboost-0.12.2-cp36-none-manylinux1_x86_64.whl (55.5MB)\n",
            "\u001b[K    100% |████████████████████████████████| 55.5MB 732kB/s \n",
            "\u001b[?25hRequirement already satisfied: six in /usr/local/lib/python3.6/dist-packages (from catboost) (1.11.0)\n",
            "Requirement already satisfied: enum34 in /usr/local/lib/python3.6/dist-packages (from catboost) (1.1.6)\n",
            "Requirement already satisfied: pandas>=0.19.1 in /usr/local/lib/python3.6/dist-packages (from catboost) (0.22.0)\n",
            "Requirement already satisfied: numpy>=1.11.1 in /usr/local/lib/python3.6/dist-packages (from catboost) (1.15.0)\n",
            "Requirement already satisfied: pytz>=2011k in /usr/local/lib/python3.6/dist-packages (from pandas>=0.19.1->catboost) (2018.9)\n",
            "Requirement already satisfied: python-dateutil>=2 in /usr/local/lib/python3.6/dist-packages (from pandas>=0.19.1->catboost) (2.5.3)\n",
            "Installing collected packages: catboost\n",
            "Successfully installed catboost-0.12.2\n"
          ],
          "name": "stdout"
        }
      ]
    },
    {
      "metadata": {
        "id": "COman8Ipq4X1",
        "colab_type": "code",
        "colab": {}
      },
      "cell_type": "code",
      "source": [
        "import pandas as pd\n",
        "import numpy as np\n",
        "from catboost import CatBoostRegressor, Pool\n",
        "from sklearn.preprocessing import StandardScaler\n",
        "from sklearn.model_selection import GridSearchCV\n",
        "from sklearn.svm import NuSVR, SVR\n",
        "from sklearn.kernel_ridge import KernelRidge\n",
        "import matplotlib.pyplot as plt"
      ],
      "execution_count": 0,
      "outputs": []
    },
    {
      "metadata": {
        "id": "6vnshT9or-C6",
        "colab_type": "code",
        "colab": {
          "base_uri": "https://localhost:8080/",
          "height": 51
        },
        "outputId": "84b70921-b5ce-4b30-b54c-8b047d21380f"
      },
      "cell_type": "code",
      "source": [
        "!unzip test.zip\n"
      ],
      "execution_count": 33,
      "outputs": [
        {
          "output_type": "stream",
          "text": [
            "Archive:  test.zip\n",
            "replace seg_430e66.csv? [y]es, [n]o, [A]ll, [N]one, [r]ename: N\n"
          ],
          "name": "stdout"
        }
      ]
    },
    {
      "metadata": {
        "id": "QX5YjWv33riR",
        "colab_type": "code",
        "colab": {}
      },
      "cell_type": "code",
      "source": [
        "\n",
        "scaler = StandardScaler()\n"
      ],
      "execution_count": 0,
      "outputs": []
    },
    {
      "metadata": {
        "id": "I9o4cbNyr_n4",
        "colab_type": "text"
      },
      "cell_type": "markdown",
      "source": [
        "importing dependecies\n"
      ]
    },
    {
      "metadata": {
        "id": "nB2RW3GWsB1Z",
        "colab_type": "code",
        "colab": {}
      },
      "cell_type": "code",
      "source": [
        "from google.colab import files\n",
        "\n",
        "\n",
        "uploaded = files.upload()\n",
        "\n",
        "!mkdir -p ~/.kaggle/ && mv kaggle.json ~/.kaggle/ && chmod 600 ~/.kaggle/kaggle.json"
      ],
      "execution_count": 0,
      "outputs": []
    },
    {
      "metadata": {
        "id": "gN3vxOXSJUpm",
        "colab_type": "code",
        "colab": {}
      },
      "cell_type": "code",
      "source": [
        "!kaggle competitions download -c LANL-Earthquake-Prediction\n"
      ],
      "execution_count": 0,
      "outputs": []
    },
    {
      "metadata": {
        "id": "wuGecero34yr",
        "colab_type": "code",
        "colab": {}
      },
      "cell_type": "code",
      "source": [
        ""
      ],
      "execution_count": 0,
      "outputs": []
    },
    {
      "metadata": {
        "id": "IyR4A0TxJ4Sx",
        "colab_type": "code",
        "colab": {
          "base_uri": "https://localhost:8080/",
          "height": 51
        },
        "outputId": "feebe724-6255-4cb1-ad98-b3534d1ae73d"
      },
      "cell_type": "code",
      "source": [
        "!unzip train.csv.zip\n"
      ],
      "execution_count": 2,
      "outputs": [
        {
          "output_type": "stream",
          "text": [
            "Archive:  train.csv.zip\n",
            "  inflating: train.csv               \n"
          ],
          "name": "stdout"
        }
      ]
    },
    {
      "metadata": {
        "id": "NO864RKJ357_",
        "colab_type": "code",
        "colab": {
          "base_uri": "https://localhost:8080/",
          "height": 102
        },
        "outputId": "9b66e6b6-cd93-4c19-c21b-1f49bc1c94b8"
      },
      "cell_type": "code",
      "source": [
        "test =  pd.read_csv('seg_0012b5.csv', iterator=True, chunksize=150_000, dtype={'acoustic_data': np.int16, 'time_to_failure': np.float64})\n",
        "\n",
        "X_train_test = pd.DataFrame()\n",
        "y_train_test = pd.Series()\n",
        "for df in test:\n",
        "  #  print(df)\n",
        "    ch = gen_features(df['acoustic_data'])\n",
        "    X_train_test = X_train_test.append(ch, ignore_index=True)\n",
        "  #  y_train_test = y_train_test.append(pd.Series(df['time_to_failure'].values[-1]))\n",
        "print(X_train_test)\n",
        "  #X_train_test.describe()"
      ],
      "execution_count": 43,
      "outputs": [
        {
          "output_type": "stream",
          "text": [
            "         0         1      2          3         4     5    6     7     8   \\\n",
            "0  4.171153  5.922839 -140.0  56.218955  0.295708 -12.0 -2.0  11.0  20.0   \n",
            "\n",
            "      9        10        11  \n",
            "0  152.0  5.19834  5.045369  \n"
          ],
          "name": "stdout"
        }
      ]
    },
    {
      "metadata": {
        "id": "85aCNKgONkyo",
        "colab_type": "code",
        "colab": {}
      },
      "cell_type": "code",
      "source": [
        "\n",
        "train = pd.read_csv('train.csv', iterator=True, chunksize=150_000, dtype={'acoustic_data': np.int16, 'time_to_failure': np.float64})\n",
        "#function to generate statistical features\n",
        "def gen_features(X): \n",
        "  strain = []\n",
        "  strain.append(X.mean())\n",
        "  strain.append(X.std())\n",
        "  strain.append(X.min())\n",
        "  strain.append(X.kurtosis())\n",
        "  strain.append(X.skew())\n",
        "  strain.append(np.quantile(X,0.01))\n",
        "  strain.append(np.quantile(X,0.05))\n",
        "  strain.append(np.quantile(X,0.95))\n",
        "  strain.append(np.quantile(X,0.99))\n",
        "  strain.append(np.abs(X).max())\n",
        "  strain.append(np.abs(X).mean())\n",
        "  strain.append(np.abs(X).std())\n",
        "  return pd.Series(strain)\n",
        "X_train = pd.DataFrame()\n",
        "y_train = pd.Series()\n",
        "for df in train:\n",
        "   \n",
        "    ch = gen_features(df['acoustic_data'])\n",
        "    X_train = X_train.append(ch, ignore_index=True)\n",
        "    y_train = y_train.append(pd.Series(df['time_to_failure'].values[-1]))\n",
        "X_train.describe()"
      ],
      "execution_count": 0,
      "outputs": []
    },
    {
      "metadata": {
        "id": "OlfZ6uDtNXXk",
        "colab_type": "code",
        "colab": {
          "base_uri": "https://localhost:8080/",
          "height": 34
        },
        "outputId": "e602450f-f793-4d27-a803-73a3ac3de311"
      },
      "cell_type": "code",
      "source": [
        "train_pool = Pool(X_train,y_train) #to collect training data, input and output\n",
        "m = CatBoostRegressor(iterations=10000, loss_function='MAE',boosting_type=\"Ordered\")  #mean absolute error\n",
        "m.fit(X_train,y_train, silent=True)\n",
        "m.best_score_"
      ],
      "execution_count": 30,
      "outputs": [
        {
          "output_type": "execute_result",
          "data": {
            "text/plain": [
              "{'learn': {'MAE': 1.7821816142256932}}"
            ]
          },
          "metadata": {
            "tags": []
          },
          "execution_count": 30
        }
      ]
    },
    {
      "metadata": {
        "id": "ZaGX8HyKMMDH",
        "colab_type": "text"
      },
      "cell_type": "markdown",
      "source": [
        ""
      ]
    },
    {
      "metadata": {
        "id": "eSyfeLpesSyC",
        "colab_type": "code",
        "colab": {
          "base_uri": "https://localhost:8080/",
          "height": 51
        },
        "outputId": "2a29d8cd-0532-49f7-ad68-8e4629640fad"
      },
      "cell_type": "code",
      "source": [
        "#testing the model\n",
        "sub = pd.read_csv('sample_submission.csv', nrows=2624, iterator=True, chunksize=1,  dtype={ 'seg_id': np.str, 'time_to_failure': np.float64})\n",
        "\n",
        "X_train_test = pd.DataFrame()\n",
        "#y_train = pd.Series()\n",
        "for df,index in enumerate(sub):\n",
        "    #read file for test\n",
        "    test =  pd.read_csv(index['seg_id'][df]+'.csv', iterator=True, chunksize=150_000, dtype={'acoustic_data': np.int16, 'time_to_failure': np.float64})\n",
        "\n",
        "    \n",
        "    for df in test:\n",
        "  #  print(df)\n",
        "        ch = gen_features(df['acoustic_data'])\n",
        "        X_train_test = X_train_test.append(ch, ignore_index=True)\n",
        "  #  y_train_test = y_train_test.append(pd.Series(df['time_to_failure'].values[-1]))\n",
        "       # print(X_train_test)\n",
        "        \n",
        "      #trying something new\n",
        "        #sol = m.predict(X_train_test,ntree_start=0,ntree_end=0,thread_count=-1,verbose=None)\n",
        "        #sub['time_to_failure'][df] = float(sol)\n",
        "#print(sub)\n",
        "#tried something new\n",
        "#X_train_test = scaler.transform(X_train_test)\n",
        "#X_train_test = X_train_test.reshape(2624,13,1)\n",
        "pred = m.predict(X_train_test)\n",
        "print(pred)\n",
        "#for df,index in enumerate(sub):\n",
        "#  index['time_to_failure'][df] = pred[df]\n",
        "#sub['time_to_failure'] = pred\n",
        "#sub.to_csv('submission.csv')\n",
        "np.savetxt(\"foo.csv\", pred, delimiter=\",\")"
      ],
      "execution_count": 100,
      "outputs": [
        {
          "output_type": "stream",
          "text": [
            "[ 4.62752045  4.91808233  4.40467357 ...  4.92529933  1.75204515\n",
            " 10.50246411]\n"
          ],
          "name": "stdout"
        }
      ]
    },
    {
      "metadata": {
        "id": "VllplSew_E-W",
        "colab_type": "code",
        "colab": {}
      },
      "cell_type": "code",
      "source": [
        "test =  pd.read_csv('seg_0012b5.csv', iterator=True, chunksize=150_000, dtype={'acoustic_data': np.int16, 'time_to_failure': np.float64})\n",
        "print (test)\n",
        "X_train_test = pd.DataFrame()\n",
        "y_train_test = pd.Series()\n",
        "for df in test:\n",
        "  #  print(df)\n",
        "    ch = gen_features(df['acoustic_data'])\n",
        "    X_train_test = X_train_test.append(ch, ignore_index=True)\n",
        "  #  y_train_test = y_train_test.append(pd.Series(df['time_to_failure'].values[-1]))\n",
        "print(X_train_test)\n",
        "  #X_train_test.describe()\n",
        "  \n",
        "  \n",
        "m.predict(X_train_test,ntree_start=0,ntree_end=0,thread_count=-1,verbose=None)"
      ],
      "execution_count": 0,
      "outputs": []
    }
  ]
}